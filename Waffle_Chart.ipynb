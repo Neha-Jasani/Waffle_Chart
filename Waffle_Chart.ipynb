{
 "cells": [
  {
   "cell_type": "code",
   "execution_count": 1,
   "id": "6e7ed944",
   "metadata": {},
   "outputs": [
    {
     "data": {
      "image/png": "[encoded data removed]",
      "text/plain": [
       "<Waffle size 432x288 with 1 Axes>"
      ]
     },
     "metadata": {
      "needs_background": "light"
     },
     "output_type": "display_data"
    }
   ],
   "source": [
    "# useful libraries, including pyWaffle\n",
    "import matplotlib.pyplot as plt\n",
    "from pywaffle import Waffle\n",
    "\n",
    "# create simple dummy data\n",
    "data = {'Kevin': 10, 'Joseph': 7, 'Yan': 8}\n",
    "\n",
    "# Basic waffle\n",
    "plt.figure(\n",
    "  FigureClass=Waffle,\n",
    "  rows=5,\n",
    "  columns=20,\n",
    "  values=data,\n",
    ")\n",
    "plt.show()\n"
   ]
  },
  {
   "cell_type": "markdown",
   "id": "54ff7e87",
   "metadata": {},
   "source": [
    "### Observations:\n",
    "\n",
    "* This waffle chart effectively visualizes the distribution of data for Kevin, Joseph, and Yan. It's a good waffle chart because it provides a clear and intuitive representation of the data in a compact and visually appealing manner."
   ]
  },
  {
   "cell_type": "code",
   "execution_count": 2,
   "id": "224b1231",
   "metadata": {},
   "outputs": [
    {
     "data": {
      "image/png": "[encoded data removed]",
      "text/plain": [
       "<Waffle size 432x288 with 1 Axes>"
      ]
     },
     "metadata": {
      "needs_background": "light"
     },
     "output_type": "display_data"
    }
   ],
   "source": [
    "# Import necessary libraries\n",
    "import matplotlib.pyplot as plt\n",
    "from pywaffle import Waffle\n",
    "\n",
    "# Create simple dummy data\n",
    "data = {'Kevin': 10, 'Joseph': 7, 'Yan': 8}\n",
    "\n",
    "\n",
    "# Calculate percentage for each data point\n",
    "repartition = [f\"{k} ({int(v / sum(data.values()) * 100)}%)\" for k, v in data.items()]\n",
    "\n",
    "# Basic waffle chart\n",
    "plt.figure(\n",
    "    FigureClass=Waffle,\n",
    "    rows=5,\n",
    "    columns=20,\n",
    "    values=data,\n",
    "    labels=repartition,\n",
    "    legend={\n",
    "        'loc': 'lower left',\n",
    "        'bbox_to_anchor': (-0.01, -0.40), # position of the legend\n",
    "        'ncol': len(data), # number of columns in the legend\n",
    "        'fontsize': 12 #size of the legend\n",
    "    },\n",
    ")\n",
    "\n",
    "\n",
    "plt.show()\n"
   ]
  },
  {
   "cell_type": "markdown",
   "id": "87df2b42",
   "metadata": {},
   "source": [
    "### Observations:\n",
    "\n",
    "* This waffle chart effectively communicates the distribution of data for Kevin, Joseph, and Yan, including the percentage representation for each category in the legend. It's a good waffle chart because it provides clear labeling and a visually appealing presentation. Adjusting the legend position outside the chart prevents overlapping and enhances readability."
   ]
  },
  {
   "cell_type": "code",
   "execution_count": 8,
   "id": "5a066e2f",
   "metadata": {},
   "outputs": [
    {
     "data": {
      "image/png": "[encoded data removed]",
      "text/plain": [
       "<Waffle size 432x288 with 1 Axes>"
      ]
     },
     "metadata": {
      "needs_background": "light"
     },
     "output_type": "display_data"
    }
   ],
   "source": [
    "# Import necessary libraries\n",
    "import matplotlib.pyplot as plt\n",
    "from pywaffle import Waffle\n",
    "\n",
    "# Create simple dummy data\n",
    "data = {\n",
    "    'Apples': 15, \n",
    "    'Oranges': 10, \n",
    "    'Bananas': 5, \n",
    "    'Grapes': 3, \n",
    "    'Pineapples': 2}\n",
    "\n",
    "# Basic waffle chart with adjusted legend\n",
    "plt.figure(\n",
    "    FigureClass=Waffle,\n",
    "    rows=4,\n",
    "    columns=5,\n",
    "    values=data,\n",
    "    legend={\n",
    "        'loc': 'upper left',  # Adjust location of the legend\n",
    "        'bbox_to_anchor': (1, 1),  # Move the legend outside the chart\n",
    "        'fontsize': 10  # Adjust font size of the legend\n",
    "    }\n",
    ")\n",
    "plt.show()"
   ]
  },
  {
   "cell_type": "markdown",
   "id": "222fb6df",
   "metadata": {},
   "source": [
    "### Observations:\n",
    "\n",
    "* This waffle chart effectively visualizes the distribution of fruit categories with different sizes relative to their counts. However, the chart may be considered less effective due to its small size and the limited number of categories, making it challenging to accurately interpret the data. Additionally, positioning the legend outside the chart area improves clarity and prevents overlapping, enhancing the overall presentation."
   ]
  },
  {
   "cell_type": "code",
   "execution_count": 12,
   "id": "b071ec8d",
   "metadata": {},
   "outputs": [
    {
     "data": {
      "image/png": "[encoded data removed]",
      "text/plain": [
       "<Waffle size 432x288 with 1 Axes>"
      ]
     },
     "metadata": {
      "needs_background": "light"
     },
     "output_type": "display_data"
    }
   ],
   "source": [
    "# Import necessary libraries\n",
    "import matplotlib.pyplot as plt\n",
    "from pywaffle import Waffle\n",
    "\n",
    "# Create simple dummy data with many features\n",
    "data = {'Feature A': 25, 'Feature B': 20, 'Feature C': 18, 'Feature D': 15, 'Feature E': 12, \n",
    "        'Feature F': 10, 'Feature G': 8, 'Feature H': 5, 'Feature I': 3, 'Feature J': 2}\n",
    "\n",
    "# Basic waffle chart with too many features\n",
    "plt.figure(\n",
    "    FigureClass=Waffle,\n",
    "    rows=10,\n",
    "    columns=25,\n",
    "    values=data,\n",
    "    legend={\n",
    "        'loc': 'upper left',  # Adjust location of the legend\n",
    "        'bbox_to_anchor': (1, 1),  # Move the legend outside the chart\n",
    "        'fontsize': 10  # Adjust font size of the legend\n",
    "    }\n",
    ")\n",
    "plt.show()"
   ]
  },
  {
   "cell_type": "markdown",
   "id": "f17e97b5",
   "metadata": {},
   "source": [
    "### Observations:\n",
    "\n",
    "* This waffle chart attempts to represent too many features (data points) within a limited space, resulting in overcrowding and difficulty in interpreting the data. As a result, it's considered a bad waffle chart because it fails to effectively communicate the information due to clutter and lack of clarity. When dealing with a large number of features, alternative visualization methods should be considered to avoid visual clutter and improve data interpretation."
   ]
  },
  {
   "cell_type": "code",
   "execution_count": null,
   "id": "31c6f770",
   "metadata": {},
   "outputs": [],
   "source": []
  }
 ],
 "metadata": {
  "kernelspec": {
   "display_name": "Python 3",
   "language": "python",
   "name": "python3"
  },
  "language_info": {
   "codemirror_mode": {
    "name": "ipython",
    "version": 3
   },
   "file_extension": ".py",
   "mimetype": "text/x-python",
   "name": "python",
   "nbconvert_exporter": "python",
   "pygments_lexer": "ipython3",
   "version": "3.8.8"
  }
 },
 "nbformat": 4,
 "nbformat_minor": 5
}
